{
 "cells": [
  {
   "cell_type": "markdown",
   "metadata": {},
   "source": [
    "# Libraries"
   ]
  },
  {
   "cell_type": "code",
   "execution_count": 1,
   "metadata": {
    "collapsed": true
   },
   "outputs": [],
   "source": [
    "import os  \n",
    "import cv2           \n",
    "from time import time\n",
    " \n",
    "import pandas as pd\n",
    "import numpy as np \n",
    "\n",
    "from random import shuffle  \n",
    "\n",
    "from sklearn.utils import shuffle\n",
    "from sklearn.cluster import KMeans\n",
    "from sklearn.decomposition import PCA\n",
    "from sklearn.preprocessing import scale\n",
    "from sklearn.neighbors import KNeighborsClassifier\n",
    "from sklearn.metrics import accuracy_score,confusion_matrix,silhouette_score, homogeneity_score,adjusted_mutual_info_score,completeness_score,v_measure_score,adjusted_rand_score\n",
    "from sklearn.preprocessing import StandardScaler\n",
    "\n",
    "\n",
    "from matplotlib import pyplot as plt\n",
    "from matplotlib.backends.backend_pdf import PdfPages as pdf\n",
    "%matplotlib inline"
   ]
  },
  {
   "cell_type": "code",
   "execution_count": 2,
   "metadata": {
    "collapsed": true
   },
   "outputs": [],
   "source": [
    "data_dir='/Users/gowthamkommineni/Desktop/ML/project/101_ObjectCategories'\n",
    "IMG_Size =50"
   ]
  },
  {
   "cell_type": "markdown",
   "metadata": {},
   "source": [
    "# Loading Images and Image Preprocessing"
   ]
  },
  {
   "cell_type": "code",
   "execution_count": 3,
   "metadata": {
    "collapsed": true
   },
   "outputs": [],
   "source": [
    "def get_hog(image) : \n",
    "    winSize = (32,32)\n",
    "    blockSize = (8,8)\n",
    "    blockStride = (4,4)\n",
    "    cellSize = (8,8)\n",
    "    nbins = 9\n",
    "    derivAperture = 1\n",
    "    winSigma = -1.\n",
    "    histogramNormType = 1\n",
    "    L2HysThreshold = 2e-1\n",
    "    gammaCorrection = 0\n",
    "    nlevels = 32\n",
    "    signedGradient = True\n",
    "\n",
    "    hog = cv2.HOGDescriptor(winSize,blockSize,blockStride,\n",
    "                            cellSize,nbins,derivAperture,winSigma,histogramNormType,\n",
    "                            L2HysThreshold,gammaCorrection,nlevels, signedGradient)\n",
    "    winStride = (8,8)\n",
    "    padding = (8,8)\n",
    "    locations = ((10,20),)\n",
    "    hist = hog.compute(image,winStride,padding,locations)\n",
    "    hog = np.squeeze(hist)\n",
    "    return hog"
   ]
  },
  {
   "cell_type": "code",
   "execution_count": 39,
   "metadata": {
    "collapsed": true
   },
   "outputs": [],
   "source": [
    "def create_categories():    \n",
    "    train=[]\n",
    "    b=[]\n",
    "    i=0\n",
    "    for categ in os.listdir(data_dir)[:10]:\n",
    "        path = os.path.join(data_dir,categ)\n",
    "        i=i+1\n",
    "        for img in (os.listdir(path)):\n",
    "            path2 = os.path.join(path,img)\n",
    "            if (os.path.exists(path2)):\n",
    "                gray = cv2.imread(path2,cv2.IMREAD_GRAYSCALE)\n",
    "                img = cv2.equalizeHist(gray)\n",
    "                imgb = cv2.GaussianBlur(img,(5,5),0)\n",
    "                imge= cv2.Canny(imgb,100,200)\n",
    "                kernel = cv2.getStructuringElement(cv2.MORPH_RECT, (7, 7))\n",
    "                img = cv2.morphologyEx(imge, cv2.MORPH_CLOSE, kernel)\n",
    "                img,cnts, _ = cv2.findContours(imge.copy(), cv2.RETR_EXTERNAL, cv2.CHAIN_APPROX_SIMPLE)\n",
    "                idx=0\n",
    "                for c in cnts:\n",
    "                    x,y,w,h = cv2.boundingRect(c)\n",
    "                    if w>50 and h>50:\n",
    "                        idx+=1\n",
    "                        img=gray[y:y+h,x:x+w]\n",
    "\n",
    "                orb = cv2.ORB_create()\n",
    "                # find the keypoints with ORB\n",
    "                kp = orb.detect(imgb,None)\n",
    "                # compute the descriptors with ORB\n",
    "                kp, des = orb.compute(imgb, kp)\n",
    "                # draw only keypoints location,not size and orientation\n",
    "                img2 = cv2.drawKeypoints(imgb.copy(),kp,color=(0,255,0),flags=0,outImage=None)\n",
    "                img2 = cv2.cvtColor(img2, cv2.COLOR_BGR2GRAY)\n",
    "                img = cv2.resize(imgb, (IMG_Size,IMG_Size))\n",
    "                img = img.reshape(IMG_Size*IMG_Size)\n",
    "#                hist=get_hog(img)            # uncomment for HOG\n",
    "                k=list(img) \n",
    "                stdsc = StandardScaler()\n",
    "                k = stdsc.fit_transform(k)\n",
    "                k=list(k)\n",
    "#                 k.extend(hist)              #Uncomment for HOG\n",
    "#                k=list(img)\n",
    "                train.append(k)\n",
    "                b.append(i)\n",
    "    np.save('train_data.npy', train)\n",
    "    train=pd.DataFrame(train)\n",
    "    train['category']=b\n",
    "    return train"
   ]
  },
  {
   "cell_type": "code",
   "execution_count": null,
   "metadata": {
    "collapsed": true
   },
   "outputs": [],
   "source": [
    "data=shuffle(create_categories())\n",
    "train=data\n",
    "print(data.shape)"
   ]
  },
  {
   "cell_type": "markdown",
   "metadata": {},
   "source": [
    "# DataExploration                                    "
   ]
  },
  {
   "cell_type": "code",
   "execution_count": 42,
   "metadata": {
    "collapsed": true
   },
   "outputs": [],
   "source": [
    "from sklearn import preprocessing\n",
    "min_max_scaler = preprocessing.MinMaxScaler()\n",
    "x_scaled = min_max_scaler.fit_transform(train.iloc[:,:len(train.iloc[:,:-1].columns)])\n",
    "data = pd.DataFrame(x_scaled)\n",
    "data['category']=train['category']"
   ]
  },
  {
   "cell_type": "code",
   "execution_count": 43,
   "metadata": {},
   "outputs": [
    {
     "data": {
      "text/html": [
       "<div>\n",
       "<table border=\"1\" class=\"dataframe\">\n",
       "  <thead>\n",
       "    <tr style=\"text-align: right;\">\n",
       "      <th></th>\n",
       "      <th>0</th>\n",
       "      <th>1</th>\n",
       "      <th>2</th>\n",
       "      <th>3</th>\n",
       "      <th>4</th>\n",
       "      <th>5</th>\n",
       "      <th>6</th>\n",
       "      <th>7</th>\n",
       "      <th>8</th>\n",
       "      <th>9</th>\n",
       "      <th>...</th>\n",
       "      <th>2491</th>\n",
       "      <th>2492</th>\n",
       "      <th>2493</th>\n",
       "      <th>2494</th>\n",
       "      <th>2495</th>\n",
       "      <th>2496</th>\n",
       "      <th>2497</th>\n",
       "      <th>2498</th>\n",
       "      <th>2499</th>\n",
       "      <th>category</th>\n",
       "    </tr>\n",
       "  </thead>\n",
       "  <tbody>\n",
       "    <tr>\n",
       "      <th>count</th>\n",
       "      <td>1715.000000</td>\n",
       "      <td>1715.000000</td>\n",
       "      <td>1715.000000</td>\n",
       "      <td>1715.000000</td>\n",
       "      <td>1715.000000</td>\n",
       "      <td>1715.000000</td>\n",
       "      <td>1715.000000</td>\n",
       "      <td>1715.000000</td>\n",
       "      <td>1715.000000</td>\n",
       "      <td>1715.000000</td>\n",
       "      <td>...</td>\n",
       "      <td>1715.000000</td>\n",
       "      <td>1715.000000</td>\n",
       "      <td>1715.000000</td>\n",
       "      <td>1715.000000</td>\n",
       "      <td>1715.000000</td>\n",
       "      <td>1715.000000</td>\n",
       "      <td>1715.000000</td>\n",
       "      <td>1715.000000</td>\n",
       "      <td>1715.000000</td>\n",
       "      <td>1715.000000</td>\n",
       "    </tr>\n",
       "    <tr>\n",
       "      <th>mean</th>\n",
       "      <td>0.590008</td>\n",
       "      <td>0.481346</td>\n",
       "      <td>0.355663</td>\n",
       "      <td>0.223750</td>\n",
       "      <td>0.125257</td>\n",
       "      <td>0.022133</td>\n",
       "      <td>0.016261</td>\n",
       "      <td>0.065207</td>\n",
       "      <td>0.089330</td>\n",
       "      <td>0.111029</td>\n",
       "      <td>...</td>\n",
       "      <td>-0.069241</td>\n",
       "      <td>-0.108766</td>\n",
       "      <td>-0.121793</td>\n",
       "      <td>-0.125641</td>\n",
       "      <td>-0.073774</td>\n",
       "      <td>-0.013659</td>\n",
       "      <td>0.079525</td>\n",
       "      <td>0.216246</td>\n",
       "      <td>0.353890</td>\n",
       "      <td>4.019825</td>\n",
       "    </tr>\n",
       "    <tr>\n",
       "      <th>std</th>\n",
       "      <td>1.262753</td>\n",
       "      <td>1.245737</td>\n",
       "      <td>1.217291</td>\n",
       "      <td>1.196920</td>\n",
       "      <td>1.150138</td>\n",
       "      <td>1.089205</td>\n",
       "      <td>1.066501</td>\n",
       "      <td>1.045643</td>\n",
       "      <td>1.028303</td>\n",
       "      <td>1.014887</td>\n",
       "      <td>...</td>\n",
       "      <td>1.019566</td>\n",
       "      <td>1.025649</td>\n",
       "      <td>1.033644</td>\n",
       "      <td>1.047817</td>\n",
       "      <td>1.087154</td>\n",
       "      <td>1.132540</td>\n",
       "      <td>1.185046</td>\n",
       "      <td>1.237042</td>\n",
       "      <td>1.263207</td>\n",
       "      <td>2.538769</td>\n",
       "    </tr>\n",
       "    <tr>\n",
       "      <th>min</th>\n",
       "      <td>-5.058141</td>\n",
       "      <td>-5.082752</td>\n",
       "      <td>-3.286163</td>\n",
       "      <td>-5.082752</td>\n",
       "      <td>-5.131974</td>\n",
       "      <td>-5.082752</td>\n",
       "      <td>-5.181195</td>\n",
       "      <td>-5.107363</td>\n",
       "      <td>-4.984309</td>\n",
       "      <td>-5.255028</td>\n",
       "      <td>...</td>\n",
       "      <td>-2.183619</td>\n",
       "      <td>-2.205695</td>\n",
       "      <td>-2.360226</td>\n",
       "      <td>-2.382302</td>\n",
       "      <td>-2.514757</td>\n",
       "      <td>-2.647212</td>\n",
       "      <td>-2.757592</td>\n",
       "      <td>-2.757592</td>\n",
       "      <td>-2.757592</td>\n",
       "      <td>1.000000</td>\n",
       "    </tr>\n",
       "    <tr>\n",
       "      <th>25%</th>\n",
       "      <td>-0.551382</td>\n",
       "      <td>-0.664069</td>\n",
       "      <td>-0.857303</td>\n",
       "      <td>-0.988344</td>\n",
       "      <td>-0.986709</td>\n",
       "      <td>-1.019435</td>\n",
       "      <td>-0.988394</td>\n",
       "      <td>-0.879698</td>\n",
       "      <td>-0.828890</td>\n",
       "      <td>-0.759968</td>\n",
       "      <td>...</td>\n",
       "      <td>-0.979200</td>\n",
       "      <td>-1.023299</td>\n",
       "      <td>-1.059908</td>\n",
       "      <td>-1.101577</td>\n",
       "      <td>-1.116480</td>\n",
       "      <td>-1.111430</td>\n",
       "      <td>-1.104549</td>\n",
       "      <td>-1.000238</td>\n",
       "      <td>-0.870490</td>\n",
       "      <td>2.000000</td>\n",
       "    </tr>\n",
       "    <tr>\n",
       "      <th>50%</th>\n",
       "      <td>1.111345</td>\n",
       "      <td>0.918333</td>\n",
       "      <td>0.675547</td>\n",
       "      <td>0.466724</td>\n",
       "      <td>0.274761</td>\n",
       "      <td>0.088414</td>\n",
       "      <td>0.092525</td>\n",
       "      <td>0.181908</td>\n",
       "      <td>0.211570</td>\n",
       "      <td>0.231226</td>\n",
       "      <td>...</td>\n",
       "      <td>-0.050111</td>\n",
       "      <td>-0.146208</td>\n",
       "      <td>-0.197701</td>\n",
       "      <td>-0.199375</td>\n",
       "      <td>-0.084698</td>\n",
       "      <td>-0.009749</td>\n",
       "      <td>0.103404</td>\n",
       "      <td>0.335184</td>\n",
       "      <td>0.639024</td>\n",
       "      <td>3.000000</td>\n",
       "    </tr>\n",
       "    <tr>\n",
       "      <th>75%</th>\n",
       "      <td>1.695459</td>\n",
       "      <td>1.640520</td>\n",
       "      <td>1.552353</td>\n",
       "      <td>1.367480</td>\n",
       "      <td>1.187661</td>\n",
       "      <td>0.981141</td>\n",
       "      <td>0.936725</td>\n",
       "      <td>0.953883</td>\n",
       "      <td>0.936041</td>\n",
       "      <td>0.952430</td>\n",
       "      <td>...</td>\n",
       "      <td>0.804782</td>\n",
       "      <td>0.767533</td>\n",
       "      <td>0.773774</td>\n",
       "      <td>0.801802</td>\n",
       "      <td>0.907002</td>\n",
       "      <td>1.023611</td>\n",
       "      <td>1.211470</td>\n",
       "      <td>1.498011</td>\n",
       "      <td>1.610449</td>\n",
       "      <td>5.000000</td>\n",
       "    </tr>\n",
       "    <tr>\n",
       "      <th>max</th>\n",
       "      <td>3.365219</td>\n",
       "      <td>2.657360</td>\n",
       "      <td>2.675510</td>\n",
       "      <td>2.838862</td>\n",
       "      <td>2.838862</td>\n",
       "      <td>3.111116</td>\n",
       "      <td>2.893313</td>\n",
       "      <td>2.857012</td>\n",
       "      <td>2.657360</td>\n",
       "      <td>3.020364</td>\n",
       "      <td>...</td>\n",
       "      <td>2.067986</td>\n",
       "      <td>2.067986</td>\n",
       "      <td>2.639210</td>\n",
       "      <td>2.167304</td>\n",
       "      <td>2.711811</td>\n",
       "      <td>2.085942</td>\n",
       "      <td>2.085942</td>\n",
       "      <td>2.096267</td>\n",
       "      <td>2.657360</td>\n",
       "      <td>10.000000</td>\n",
       "    </tr>\n",
       "  </tbody>\n",
       "</table>\n",
       "<p>8 rows × 2501 columns</p>\n",
       "</div>"
      ],
      "text/plain": [
       "                 0            1            2            3            4  \\\n",
       "count  1715.000000  1715.000000  1715.000000  1715.000000  1715.000000   \n",
       "mean      0.590008     0.481346     0.355663     0.223750     0.125257   \n",
       "std       1.262753     1.245737     1.217291     1.196920     1.150138   \n",
       "min      -5.058141    -5.082752    -3.286163    -5.082752    -5.131974   \n",
       "25%      -0.551382    -0.664069    -0.857303    -0.988344    -0.986709   \n",
       "50%       1.111345     0.918333     0.675547     0.466724     0.274761   \n",
       "75%       1.695459     1.640520     1.552353     1.367480     1.187661   \n",
       "max       3.365219     2.657360     2.675510     2.838862     2.838862   \n",
       "\n",
       "                 5            6            7            8            9  \\\n",
       "count  1715.000000  1715.000000  1715.000000  1715.000000  1715.000000   \n",
       "mean      0.022133     0.016261     0.065207     0.089330     0.111029   \n",
       "std       1.089205     1.066501     1.045643     1.028303     1.014887   \n",
       "min      -5.082752    -5.181195    -5.107363    -4.984309    -5.255028   \n",
       "25%      -1.019435    -0.988394    -0.879698    -0.828890    -0.759968   \n",
       "50%       0.088414     0.092525     0.181908     0.211570     0.231226   \n",
       "75%       0.981141     0.936725     0.953883     0.936041     0.952430   \n",
       "max       3.111116     2.893313     2.857012     2.657360     3.020364   \n",
       "\n",
       "          ...              2491         2492         2493         2494  \\\n",
       "count     ...       1715.000000  1715.000000  1715.000000  1715.000000   \n",
       "mean      ...         -0.069241    -0.108766    -0.121793    -0.125641   \n",
       "std       ...          1.019566     1.025649     1.033644     1.047817   \n",
       "min       ...         -2.183619    -2.205695    -2.360226    -2.382302   \n",
       "25%       ...         -0.979200    -1.023299    -1.059908    -1.101577   \n",
       "50%       ...         -0.050111    -0.146208    -0.197701    -0.199375   \n",
       "75%       ...          0.804782     0.767533     0.773774     0.801802   \n",
       "max       ...          2.067986     2.067986     2.639210     2.167304   \n",
       "\n",
       "              2495         2496         2497         2498         2499  \\\n",
       "count  1715.000000  1715.000000  1715.000000  1715.000000  1715.000000   \n",
       "mean     -0.073774    -0.013659     0.079525     0.216246     0.353890   \n",
       "std       1.087154     1.132540     1.185046     1.237042     1.263207   \n",
       "min      -2.514757    -2.647212    -2.757592    -2.757592    -2.757592   \n",
       "25%      -1.116480    -1.111430    -1.104549    -1.000238    -0.870490   \n",
       "50%      -0.084698    -0.009749     0.103404     0.335184     0.639024   \n",
       "75%       0.907002     1.023611     1.211470     1.498011     1.610449   \n",
       "max       2.711811     2.085942     2.085942     2.096267     2.657360   \n",
       "\n",
       "          category  \n",
       "count  1715.000000  \n",
       "mean      4.019825  \n",
       "std       2.538769  \n",
       "min       1.000000  \n",
       "25%       2.000000  \n",
       "50%       3.000000  \n",
       "75%       5.000000  \n",
       "max      10.000000  \n",
       "\n",
       "[8 rows x 2501 columns]"
      ]
     },
     "execution_count": 43,
     "metadata": {},
     "output_type": "execute_result"
    }
   ],
   "source": [
    "train.describe()"
   ]
  },
  {
   "cell_type": "code",
   "execution_count": 10,
   "metadata": {},
   "outputs": [
    {
     "data": {
      "image/png": "[encoded data removed]",
      "text/plain": [
       "<matplotlib.figure.Figure at 0x11c851208>"
      ]
     },
     "metadata": {},
     "output_type": "display_data"
    }
   ],
   "source": [
    "ax = train.groupby('category').size().plot(kind='bar', figsize=(10,2))"
   ]
  },
  {
   "cell_type": "markdown",
   "metadata": {},
   "source": [
    "# Clustering and PCA Analysis"
   ]
  },
  {
   "cell_type": "code",
   "execution_count": 44,
   "metadata": {
    "collapsed": true
   },
   "outputs": [],
   "source": [
    "n_samples, n_features = data.shape\n",
    "n_digits = len(np.unique(data.category))\n",
    "labels = data.category\n",
    "sample_size = len(data)"
   ]
  },
  {
   "cell_type": "code",
   "execution_count": 45,
   "metadata": {},
   "outputs": [
    {
     "name": "stdout",
     "output_type": "stream",
     "text": [
      "_______________________________________________________________________________\n",
      "init        time   inertia   homo    compl   v-meas   ARI    AMI    silhouette\n",
      "k-means++   8.02s    137442   0.169   0.116   0.138   0.044   0.107    0.038\n",
      "   random   7.34s    137640   0.171   0.118   0.139   0.043   0.108    0.043\n",
      "PCA-based   0.69s    138097   0.174   0.122   0.143   0.044   0.112    0.048\n",
      "_______________________________________________________________________________\n"
     ]
    }
   ],
   "source": [
    "np.random.seed(42)\n",
    "\n",
    "print(79 * '_')\n",
    "print('% 9s' %    'init'\n",
    "      '        time   inertia   homo    compl   v-meas   ARI    AMI    silhouette')\n",
    "\n",
    "def bench_k_means(estimator, name, data):\n",
    "    t0 = time()\n",
    "    estimator.fit(data)\n",
    "    print('% 9s   %.2fs    %i   %.3f   %.3f   %.3f   %.3f   %.3f    %.3f'\n",
    "          % (name, (time() - t0), estimator.inertia_,\n",
    "             homogeneity_score(labels, estimator.labels_),\n",
    "             completeness_score(labels, estimator.labels_),\n",
    "             v_measure_score(labels, estimator.labels_),\n",
    "             adjusted_rand_score(labels, estimator.labels_),\n",
    "             adjusted_mutual_info_score(labels,  estimator.labels_),\n",
    "             silhouette_score(data, estimator.labels_,\n",
    "                                      metric='euclidean',\n",
    "                                      sample_size=sample_size)))\n",
    "bench_k_means(KMeans(init='k-means++', n_clusters=n_digits, n_init=10),\n",
    "              name=\"k-means++\", data=data)\n",
    "\n",
    "bench_k_means(KMeans(init='random', n_clusters=n_digits, n_init=10),\n",
    "              name=\"random\", data=data)\n",
    "\n",
    "#kmeans algorithm only once with n_init=1\n",
    "pca = PCA(n_components=n_digits).fit(data)\n",
    "bench_k_means(KMeans(init=pca.components_, n_clusters=n_digits, n_init=1),\n",
    "              name=\"PCA-based\",\n",
    "              data=data)\n",
    "print(79 * '_')"
   ]
  },
  {
   "cell_type": "code",
   "execution_count": 46,
   "metadata": {
    "scrolled": true
   },
   "outputs": [
    {
     "data": {
      "text/plain": [
       "KMeans(algorithm='auto', copy_x=True, init='k-means++', max_iter=300,\n",
       "    n_clusters=10, n_init=80, n_jobs=1, precompute_distances='auto',\n",
       "    random_state=None, tol=0.0001, verbose=0)"
      ]
     },
     "execution_count": 46,
     "metadata": {},
     "output_type": "execute_result"
    }
   ],
   "source": [
    "reduced_data = PCA(n_components=2).fit_transform(data)\n",
    "kmeans = KMeans(init='k-means++', n_clusters=n_digits, n_init=80)\n",
    "kmeans.fit(reduced_data)"
   ]
  },
  {
   "cell_type": "code",
   "execution_count": 47,
   "metadata": {
    "collapsed": true
   },
   "outputs": [],
   "source": [
    "# Step size of the mesh. Decrease to increase the quality of the VQ.\n",
    "h = .02     \n",
    "# Plot the decision boundary. For that, we will assign a color to each\n",
    "x_min, x_max = reduced_data[:, 0].min() - 1, reduced_data[:, 0].max() + 1\n",
    "y_min, y_max = reduced_data[:, 1].min() - 1, reduced_data[:, 1].max() + 1"
   ]
  },
  {
   "cell_type": "code",
   "execution_count": 48,
   "metadata": {
    "collapsed": true
   },
   "outputs": [],
   "source": [
    "xx, yy = np.meshgrid(np.arange(x_min, x_max, 0.1), np.arange(y_min, y_max, 0.1))"
   ]
  },
  {
   "cell_type": "code",
   "execution_count": 49,
   "metadata": {
    "collapsed": true
   },
   "outputs": [],
   "source": [
    "type(reduced_data)\n",
    "Z = kmeans.predict(np.c_[xx.ravel(), yy.ravel()])"
   ]
  },
  {
   "cell_type": "code",
   "execution_count": 50,
   "metadata": {
    "collapsed": true
   },
   "outputs": [],
   "source": [
    "type(Z)\n",
    "Z = Z.reshape(xx.shape)"
   ]
  },
  {
   "cell_type": "code",
   "execution_count": 51,
   "metadata": {},
   "outputs": [
    {
     "data": {
      "text/plain": [
       "(189, 187)"
      ]
     },
     "execution_count": 51,
     "metadata": {},
     "output_type": "execute_result"
    }
   ],
   "source": [
    "Z.shape"
   ]
  },
  {
   "cell_type": "markdown",
   "metadata": {},
   "source": [
    "# Plotting Cluster for 10 classes "
   ]
  },
  {
   "cell_type": "code",
   "execution_count": 52,
   "metadata": {},
   "outputs": [
    {
     "data": {
      "image/png": "[encoded data removed]",
      "text/plain": [
       "<matplotlib.figure.Figure at 0x11c6572e8>"
      ]
     },
     "metadata": {},
     "output_type": "display_data"
    }
   ],
   "source": [
    "plt.figure(1)\n",
    "plt.clf()\n",
    "plt.imshow(Z, interpolation='nearest',\n",
    "           extent=(xx.min(), xx.max(), yy.min(), yy.max()),\n",
    "           cmap=plt.cm.Paired,\n",
    "           aspect='auto', origin='lower')\n",
    "\n",
    "plt.plot(reduced_data[:, 0], reduced_data[:, 1], 'k.', markersize=2)\n",
    "# Plot the centroids as a white X\n",
    "centroids = kmeans.cluster_centers_\n",
    "plt.scatter(centroids[:, 0], centroids[:, 1],\n",
    "            marker='x', s=169, linewidths=3,\n",
    "            color='w', zorder=10)\n",
    "plt.title('K-means clustering')\n",
    "plt.xlim(x_min, x_max)\n",
    "plt.ylim(y_min, y_max)\n",
    "plt.xticks(())\n",
    "plt.yticks(())\n",
    "pdf.savefig(\"depth\")\n",
    "plt.show()"
   ]
  },
  {
   "cell_type": "markdown",
   "metadata": {},
   "source": [
    "# Supervised Learning Models"
   ]
  },
  {
   "cell_type": "code",
   "execution_count": 28,
   "metadata": {
    "collapsed": true,
    "scrolled": true
   },
   "outputs": [],
   "source": [
    "train_input=train.iloc[:int(len(train)*0.7),:len(train.iloc[:,:-1].columns)].as_matrix()\n",
    "train_output=train['category'][:int(len(train)*0.7)].as_matrix()\n",
    "test_input=train.iloc[int(len(train)*0.7):,:len(train.iloc[:,:-1].columns)].as_matrix()\n",
    "test_output=train['category'][int(len(train)*0.7):].as_matrix()"
   ]
  },
  {
   "cell_type": "code",
   "execution_count": 29,
   "metadata": {},
   "outputs": [
    {
     "name": "stdout",
     "output_type": "stream",
     "text": [
      "(1200, 2500)\n",
      "(1200,)\n",
      "(515, 2500)\n",
      "(515,)\n"
     ]
    }
   ],
   "source": [
    "print(train_input.shape)\n",
    "print(train_output.shape)\n",
    "print(test_input.shape)\n",
    "print(test_output.shape)"
   ]
  },
  {
   "cell_type": "code",
   "execution_count": 54,
   "metadata": {
    "collapsed": true
   },
   "outputs": [],
   "source": [
    "acc=[]\n",
    "accdt=[]\n",
    "accrt=[]\n",
    "accsvm=[]\n",
    "accnnet=[]\n",
    "conf=[]\n",
    "# clf5 = MLPClassifier(solver='lbfgs', alpha=1e-5,hidden_layer_sizes=(12,1), random_state=1)\n",
    "# MLPClassifier(activation='relu', alpha=1e-05, batch_size='auto',\n",
    "#        beta_1=0.9, beta_2=0.999, early_stopping=False,\n",
    "#        epsilon=1e-08, hidden_layer_sizes=(12,1), learning_rate='constant',\n",
    "#        learning_rate_init=0.01, max_iter=200, momentum=0.9,\n",
    "#        nesterovs_momentum=True, power_t=0.5, random_state=1, shuffle=True,\n",
    "#        solver='lbfgs', tol=0.0001, validation_fraction=0.1, verbose=False,\n",
    "#        warm_start=False)\n",
    "for n in range(1,40):\n",
    "    clf1= KNeighborsClassifier(n_neighbors=3,weights='distance')\n",
    "#     train_input=train.iloc[:int(len(train)*0.7),:len(train.iloc[:,:-1].columns)].as_matrix()\n",
    "#     train_output=train['category'][:int(len(train)*0.7)].as_matrix()\n",
    "#     test_input=train.iloc[int(len(train)*0.7):,:len(train.iloc[:,:-1].columns)].as_matrix()\n",
    "#     test_output=train['category'][int(len(train)*0.7):].as_matrix()\n",
    "#     #train=shuffle(create_categories(n))\n",
    "    clf1.fit(train_input, train_output)\n",
    "    predicted_output=clf1.predict(test_input)\n",
    "    acc.append(accuracy_score(test_output, predicted_output)*100)\n",
    "    conf.append(confusion_matrix(test_output, predicted_output))\n",
    "#     #Decision Tree\n",
    "#     clf2 = tree.DecisionTreeRegressor()\n",
    "#     clf2 = clf2.fit(train_input, train_output)\n",
    "#     predicted_output=clf2.predict(test_input)\n",
    "#     accdt.append(accuracy_score(test_output, predicted_output)*100)\n",
    "#     #Random Forest acc=[]\n",
    "#     clf3 = RandomForestClassifier(n_jobs=4)\n",
    "#     clf3.fit(train_input, train_output)\n",
    "#     predicted_output=clf3.predict(test_input)\n",
    "#     accrt.append(accuracy_score(test_output, predicted_output)*100)\n",
    "#     #SVM\n",
    "#     clf4 = svm.SVC(decision_function_shape='ovo')\n",
    "#     clf4.fit(train_input, train_output)\n",
    "#     predicted_output=clf4.predict(test_input)\n",
    "#     accsvm.append(accuracy_score(test_output, predicted_output)*100)\n",
    "#     #nnet\n",
    "#     clf5.fit(train_input, train_output)                         \n",
    "#     pred=clf5.predict(test_input)\n",
    "#     accnnet.append(accuracy_score(test_output, pred)*100)"
   ]
  },
  {
   "cell_type": "code",
   "execution_count": 371,
   "metadata": {},
   "outputs": [
    {
     "data": {
      "image/png": "[encoded data removed]",
      "text/plain": [
       "<matplotlib.figure.Figure at 0x114a49c18>"
      ]
     },
     "metadata": {},
     "output_type": "display_data"
    }
   ],
   "source": [
    "plt.plot(accsvm,color='red')\n",
    "plt.plot(accnnet,color='green')\n",
    "plt.plot(accdt,color='red')\n",
    "plt.plot(accrt,color='blue')\n",
    "plt.title(\"different neighbors\")\n",
    "plt.show('estimators')  \n",
    "plt.close()"
   ]
  },
  {
   "cell_type": "markdown",
   "metadata": {},
   "source": [
    "# Confusion Matrix "
   ]
  },
  {
   "cell_type": "code",
   "execution_count": 337,
   "metadata": {
    "collapsed": true
   },
   "outputs": [],
   "source": [
    "conf_mat_ind=10"
   ]
  },
  {
   "cell_type": "code",
   "execution_count": 355,
   "metadata": {},
   "outputs": [
    {
     "data": {
      "image/png": "[encoded data removed]",
      "text/plain": [
       "<matplotlib.figure.Figure at 0x118928940>"
      ]
     },
     "metadata": {},
     "output_type": "display_data"
    }
   ],
   "source": [
    "norm_conf = []\n",
    "for i in conf[conf_mat_ind]:\n",
    "    a = 0\n",
    "    tmp_arr = []\n",
    "    a = sum(i, 0)\n",
    "    for j in i:\n",
    "        tmp_arr.append(float(j)/float(a))\n",
    "    norm_conf.append(tmp_arr)\n",
    "\n",
    "fig = plt.figure()\n",
    "plt.clf()\n",
    "ax = fig.add_subplot(111)\n",
    "ax.set_aspect(1)\n",
    "res = ax.imshow(np.array(norm_conf), cmap=plt.cm.jet, \n",
    "                interpolation='nearest')\n",
    "\n",
    "width, height = conf[conf_mat_ind].shape\n",
    "\n",
    "for x in range(width):\n",
    "    for y in range(height):\n",
    "        ax.annotate(str(conf[conf_mat_ind][x][y]), xy=(y, x), \n",
    "                    horizontalalignment='center',\n",
    "                    verticalalignment='center')\n",
    "\n",
    "cb = fig.colorbar(res)\n",
    "alphabet = 'ABCDEFGHIJKLMNOPQRSTUVWXYZ'\n",
    "plt.xticks(range(width), alphabet[:width])\n",
    "plt.yticks(range(height), alphabet[:height])\n",
    "plt.savefig('confusion_matrix.png', format='png')"
   ]
  },
  {
   "cell_type": "markdown",
   "metadata": {},
   "source": [
    "# Decision Tree"
   ]
  },
  {
   "cell_type": "code",
   "execution_count": 340,
   "metadata": {},
   "outputs": [
    {
     "data": {
      "text/plain": [
       "55.533980582524265"
      ]
     },
     "execution_count": 340,
     "metadata": {},
     "output_type": "execute_result"
    }
   ],
   "source": [
    "from sklearn import tree\n",
    "clf = tree.DecisionTreeRegressor()\n",
    "clf = clf.fit(train_input, train_output)\n",
    "predicted_output=clf.predict(test_input)\n",
    "accuracy_score(test_output, predicted_output)*100"
   ]
  },
  {
   "cell_type": "markdown",
   "metadata": {},
   "source": [
    "# Random Forests"
   ]
  },
  {
   "cell_type": "code",
   "execution_count": 341,
   "metadata": {
    "collapsed": true
   },
   "outputs": [],
   "source": [
    "from sklearn.ensemble import RandomForestClassifier\n",
    "acc=[]\n",
    "for i in range(1,30):\n",
    "    clf = RandomForestClassifier(n_jobs=i)\n",
    "    clf.fit(train_input, train_output)\n",
    "    predicted_output=clf.predict(test_input)\n",
    "    acc.append(accuracy_score(test_output, predicted_output)*100)"
   ]
  },
  {
   "cell_type": "code",
   "execution_count": 342,
   "metadata": {},
   "outputs": [
    {
     "data": {
      "image/png": "[encoded data removed]",
      "text/plain": [
       "<matplotlib.figure.Figure at 0x117c47f60>"
      ]
     },
     "metadata": {},
     "output_type": "display_data"
    }
   ],
   "source": [
    "plt.plot(acc,color='red')\n",
    "plt.title(\"different neighbors Normalized\")\n",
    "plt.show('estimators')  \n",
    "plt.close()"
   ]
  },
  {
   "cell_type": "markdown",
   "metadata": {},
   "source": [
    "# SVM"
   ]
  },
  {
   "cell_type": "code",
   "execution_count": 344,
   "metadata": {},
   "outputs": [
    {
     "data": {
      "text/plain": [
       "SVC(C=1.0, cache_size=200, class_weight=None, coef0=0.0,\n",
       "  decision_function_shape='ovo', degree=3, gamma='auto', kernel='rbf',\n",
       "  max_iter=-1, probability=False, random_state=None, shrinking=True,\n",
       "  tol=0.001, verbose=False)"
      ]
     },
     "execution_count": 344,
     "metadata": {},
     "output_type": "execute_result"
    }
   ],
   "source": [
    "from sklearn import svm\n",
    "clf = svm.SVC(decision_function_shape='ovo')\n",
    "clf.fit(train_input, train_output)"
   ]
  },
  {
   "cell_type": "code",
   "execution_count": 347,
   "metadata": {
    "collapsed": true
   },
   "outputs": [],
   "source": [
    "predicted_output=clf.predict(test_input)\n",
    "acchist_svm=accuracy_score(test_output, predicted_output)*100\n",
    "conf.append(confusion_matrix(test_output, predicted_output))\n",
    "   "
   ]
  },
  {
   "cell_type": "code",
   "execution_count": 346,
   "metadata": {},
   "outputs": [
    {
     "data": {
      "text/plain": [
       "76.310679611650485"
      ]
     },
     "execution_count": 346,
     "metadata": {},
     "output_type": "execute_result"
    }
   ],
   "source": [
    "acchist_svm"
   ]
  },
  {
   "cell_type": "markdown",
   "metadata": {},
   "source": [
    "# Neaural Network"
   ]
  },
  {
   "cell_type": "code",
   "execution_count": 293,
   "metadata": {
    "scrolled": true
   },
   "outputs": [
    {
     "data": {
      "text/plain": [
       "MLPClassifier(activation='relu', alpha=1e-05, batch_size='auto', beta_1=0.9,\n",
       "       beta_2=0.999, early_stopping=False, epsilon=1e-08,\n",
       "       hidden_layer_sizes=(12, 1), learning_rate='constant',\n",
       "       learning_rate_init=0.01, max_iter=200, momentum=0.9,\n",
       "       nesterovs_momentum=True, power_t=0.5, random_state=1, shuffle=True,\n",
       "       solver='lbfgs', tol=0.0001, validation_fraction=0.1, verbose=False,\n",
       "       warm_start=False)"
      ]
     },
     "execution_count": 293,
     "metadata": {},
     "output_type": "execute_result"
    }
   ],
   "source": [
    "from sklearn.neural_network import MLPClassifier\n",
    "clf = MLPClassifier(solver='lbfgs', alpha=1e-5,hidden_layer_sizes=(12,1), random_state=1)\n",
    "clf.fit(train_input, train_output)                         \n",
    "MLPClassifier(activation='relu', alpha=1e-05, batch_size='auto',\n",
    "       beta_1=0.9, beta_2=0.999, early_stopping=False,\n",
    "       epsilon=1e-08, hidden_layer_sizes=(12,1), learning_rate='constant',\n",
    "       learning_rate_init=0.01, max_iter=200, momentum=0.9,\n",
    "       nesterovs_momentum=True, power_t=0.5, random_state=1, shuffle=True,\n",
    "       solver='lbfgs', tol=0.0001, validation_fraction=0.1, verbose=False,\n",
    "       warm_start=False)"
   ]
  },
  {
   "cell_type": "code",
   "execution_count": 294,
   "metadata": {},
   "outputs": [
    {
     "data": {
      "text/plain": [
       "42.33009708737864"
      ]
     },
     "execution_count": 294,
     "metadata": {},
     "output_type": "execute_result"
    }
   ],
   "source": [
    "pred=clf.predict(test_input)\n",
    "accuracy_score(test_output, pred)*100"
   ]
  },
  {
   "cell_type": "markdown",
   "metadata": {},
   "source": [
    "# Feature Selection Using Random Forest "
   ]
  },
  {
   "cell_type": "code",
   "execution_count": 33,
   "metadata": {},
   "outputs": [
    {
     "name": "stderr",
     "output_type": "stream",
     "text": [
      "/Users/gowthamkommineni/anaconda3/lib/python3.5/site-packages/sklearn/utils/validation.py:429: DataConversionWarning: Data with input dtype int64 was converted to float64 by StandardScaler.\n",
      "  warnings.warn(msg, _DataConversionWarning)\n"
     ]
    }
   ],
   "source": [
    "stdsc = StandardScaler()\n",
    "X_train_std = stdsc.fit_transform(train_input)\n",
    "X_test_std = stdsc.transform(test_input)"
   ]
  },
  {
   "cell_type": "code",
   "execution_count": 34,
   "metadata": {},
   "outputs": [
    {
     "data": {
      "text/plain": [
       "array([[-0.77663305, -0.88484567, -0.88420156, ..., -0.32056733,\n",
       "        -0.43794186, -0.4826965 ],\n",
       "       [-1.03161226, -0.33981009,  0.68322934, ..., -1.13580242,\n",
       "        -1.40502547, -1.53609901],\n",
       "       [ 0.84885945,  0.9319396 , -0.13314092, ..., -1.14681911,\n",
       "        -1.23498879, -1.306645  ],\n",
       "       ..., \n",
       "       [ 0.84885945,  0.9319396 ,  0.92269795, ..., -1.30105277,\n",
       "        -1.39439817,  0.99832486],\n",
       "       [-1.67968444, -1.52606401, -1.55906764, ...,  0.18620043,\n",
       "        -0.27853248, -0.14894521],\n",
       "       [-0.84037785, -0.69248018, -0.49234383, ...,  0.77008502,\n",
       "         0.67792384,  0.56027629]])"
      ]
     },
     "execution_count": 34,
     "metadata": {},
     "output_type": "execute_result"
    }
   ],
   "source": [
    "X_train_std"
   ]
  },
  {
   "cell_type": "code",
   "execution_count": null,
   "metadata": {
    "collapsed": true
   },
   "outputs": [],
   "source": [
    "from sklearn.ensemble import RandomForestClassifier\n",
    "\n",
    "feat_labels = train[1:]\n",
    "\n",
    "forest = RandomForestClassifier(n_estimators=10,\n",
    "                                random_state=0,\n",
    "                                n_jobs=-1)\n",
    "\n",
    "forest.fit(train_input, train_output)\n",
    "importances = forest.feature_importances_\n",
    "\n",
    "indices = np.argsort(importances)[::-1]\n",
    "\n",
    "for f in range(train_input.shape[1]):\n",
    "    print(\"%2d) %-*s %f\" % (f + 1, 30, \n",
    "                            feat_labels[indices[f]], \n",
    "                            importances[indices[f]]))\n",
    "\n",
    "plt.title('Feature Importances')\n",
    "plt.bar(range(train_input.shape[1]), \n",
    "        importances[indices],\n",
    "        color='lightblue', \n",
    "        align='center')\n",
    "\n",
    "plt.xticks(range(train_input.shape[1]), \n",
    "           feat_labels[indices], rotation=90)\n",
    "plt.xlim([-1, train_input.shape[1]])\n",
    "plt.tight_layout()\n",
    "plt.savefig('./random_forest.png', dpi=300)\n",
    "plt.show()"
   ]
  },
  {
   "cell_type": "code",
   "execution_count": 155,
   "metadata": {
    "collapsed": true
   },
   "outputs": [],
   "source": [
    "from sklearn.feature_selection import SelectFromModel\n",
    "sfm = SelectFromModel(forest, threshold=0.002, prefit=True)\n",
    "X_selected = sfm.transform(train_input)\n",
    "t=sfm.transform(test_input)"
   ]
  },
  {
   "cell_type": "code",
   "execution_count": 156,
   "metadata": {
    "collapsed": true,
    "scrolled": true
   },
   "outputs": [],
   "source": [
    "test_input=pd.DataFrame(t)\n",
    "train_input=pd.DataFrame(X_selected)"
   ]
  },
  {
   "cell_type": "code",
   "execution_count": 157,
   "metadata": {},
   "outputs": [
    {
     "data": {
      "text/html": [
       "<div>\n",
       "<table border=\"1\" class=\"dataframe\">\n",
       "  <thead>\n",
       "    <tr style=\"text-align: right;\">\n",
       "      <th></th>\n",
       "      <th>0</th>\n",
       "      <th>1</th>\n",
       "      <th>2</th>\n",
       "      <th>3</th>\n",
       "      <th>4</th>\n",
       "      <th>5</th>\n",
       "      <th>6</th>\n",
       "      <th>7</th>\n",
       "      <th>8</th>\n",
       "      <th>9</th>\n",
       "      <th>...</th>\n",
       "      <th>241</th>\n",
       "      <th>242</th>\n",
       "      <th>243</th>\n",
       "      <th>244</th>\n",
       "      <th>245</th>\n",
       "      <th>246</th>\n",
       "      <th>247</th>\n",
       "      <th>248</th>\n",
       "      <th>249</th>\n",
       "      <th>250</th>\n",
       "    </tr>\n",
       "  </thead>\n",
       "  <tbody>\n",
       "    <tr>\n",
       "      <th>0</th>\n",
       "      <td>0.000000</td>\n",
       "      <td>0.000000</td>\n",
       "      <td>0.000000</td>\n",
       "      <td>0.0</td>\n",
       "      <td>0.000000</td>\n",
       "      <td>0.000000</td>\n",
       "      <td>0.0</td>\n",
       "      <td>0.000000</td>\n",
       "      <td>0.000000</td>\n",
       "      <td>0.0</td>\n",
       "      <td>...</td>\n",
       "      <td>0.031731</td>\n",
       "      <td>0.001088</td>\n",
       "      <td>0.003843</td>\n",
       "      <td>0.044395</td>\n",
       "      <td>0.065384</td>\n",
       "      <td>0.236945</td>\n",
       "      <td>0.682465</td>\n",
       "      <td>0.681927</td>\n",
       "      <td>0.000623</td>\n",
       "      <td>0.000302</td>\n",
       "    </tr>\n",
       "    <tr>\n",
       "      <th>1</th>\n",
       "      <td>0.564098</td>\n",
       "      <td>0.564098</td>\n",
       "      <td>0.002445</td>\n",
       "      <td>0.0</td>\n",
       "      <td>0.199291</td>\n",
       "      <td>0.503782</td>\n",
       "      <td>0.0</td>\n",
       "      <td>0.503782</td>\n",
       "      <td>0.183499</td>\n",
       "      <td>0.0</td>\n",
       "      <td>...</td>\n",
       "      <td>0.696857</td>\n",
       "      <td>0.542770</td>\n",
       "      <td>0.183477</td>\n",
       "      <td>0.272044</td>\n",
       "      <td>0.045329</td>\n",
       "      <td>0.032140</td>\n",
       "      <td>0.004454</td>\n",
       "      <td>0.001556</td>\n",
       "      <td>0.542770</td>\n",
       "      <td>0.542770</td>\n",
       "    </tr>\n",
       "    <tr>\n",
       "      <th>2</th>\n",
       "      <td>0.000000</td>\n",
       "      <td>0.000000</td>\n",
       "      <td>0.000000</td>\n",
       "      <td>0.0</td>\n",
       "      <td>0.000000</td>\n",
       "      <td>0.000000</td>\n",
       "      <td>0.0</td>\n",
       "      <td>0.000000</td>\n",
       "      <td>0.000000</td>\n",
       "      <td>0.0</td>\n",
       "      <td>...</td>\n",
       "      <td>0.000000</td>\n",
       "      <td>0.000000</td>\n",
       "      <td>0.000000</td>\n",
       "      <td>0.000000</td>\n",
       "      <td>0.000000</td>\n",
       "      <td>0.000000</td>\n",
       "      <td>0.000000</td>\n",
       "      <td>0.000000</td>\n",
       "      <td>0.000000</td>\n",
       "      <td>0.000000</td>\n",
       "    </tr>\n",
       "    <tr>\n",
       "      <th>3</th>\n",
       "      <td>0.000000</td>\n",
       "      <td>0.000000</td>\n",
       "      <td>0.000000</td>\n",
       "      <td>0.0</td>\n",
       "      <td>0.000000</td>\n",
       "      <td>0.000000</td>\n",
       "      <td>0.0</td>\n",
       "      <td>0.000000</td>\n",
       "      <td>0.000000</td>\n",
       "      <td>0.0</td>\n",
       "      <td>...</td>\n",
       "      <td>0.000000</td>\n",
       "      <td>0.000000</td>\n",
       "      <td>0.000000</td>\n",
       "      <td>0.000000</td>\n",
       "      <td>0.000000</td>\n",
       "      <td>0.000000</td>\n",
       "      <td>0.000000</td>\n",
       "      <td>0.000000</td>\n",
       "      <td>0.000000</td>\n",
       "      <td>0.000000</td>\n",
       "    </tr>\n",
       "    <tr>\n",
       "      <th>4</th>\n",
       "      <td>0.000000</td>\n",
       "      <td>0.000000</td>\n",
       "      <td>0.000000</td>\n",
       "      <td>0.0</td>\n",
       "      <td>0.000000</td>\n",
       "      <td>0.000000</td>\n",
       "      <td>0.0</td>\n",
       "      <td>0.000000</td>\n",
       "      <td>0.000000</td>\n",
       "      <td>0.0</td>\n",
       "      <td>...</td>\n",
       "      <td>0.516723</td>\n",
       "      <td>0.704091</td>\n",
       "      <td>0.704091</td>\n",
       "      <td>0.038252</td>\n",
       "      <td>0.000000</td>\n",
       "      <td>0.003753</td>\n",
       "      <td>0.000583</td>\n",
       "      <td>0.000238</td>\n",
       "      <td>0.000052</td>\n",
       "      <td>0.002517</td>\n",
       "    </tr>\n",
       "  </tbody>\n",
       "</table>\n",
       "<p>5 rows × 251 columns</p>\n",
       "</div>"
      ],
      "text/plain": [
       "        0         1         2    3         4         5    6         7    \\\n",
       "0  0.000000  0.000000  0.000000  0.0  0.000000  0.000000  0.0  0.000000   \n",
       "1  0.564098  0.564098  0.002445  0.0  0.199291  0.503782  0.0  0.503782   \n",
       "2  0.000000  0.000000  0.000000  0.0  0.000000  0.000000  0.0  0.000000   \n",
       "3  0.000000  0.000000  0.000000  0.0  0.000000  0.000000  0.0  0.000000   \n",
       "4  0.000000  0.000000  0.000000  0.0  0.000000  0.000000  0.0  0.000000   \n",
       "\n",
       "        8    9      ...          241       242       243       244       245  \\\n",
       "0  0.000000  0.0    ...     0.031731  0.001088  0.003843  0.044395  0.065384   \n",
       "1  0.183499  0.0    ...     0.696857  0.542770  0.183477  0.272044  0.045329   \n",
       "2  0.000000  0.0    ...     0.000000  0.000000  0.000000  0.000000  0.000000   \n",
       "3  0.000000  0.0    ...     0.000000  0.000000  0.000000  0.000000  0.000000   \n",
       "4  0.000000  0.0    ...     0.516723  0.704091  0.704091  0.038252  0.000000   \n",
       "\n",
       "        246       247       248       249       250  \n",
       "0  0.236945  0.682465  0.681927  0.000623  0.000302  \n",
       "1  0.032140  0.004454  0.001556  0.542770  0.542770  \n",
       "2  0.000000  0.000000  0.000000  0.000000  0.000000  \n",
       "3  0.000000  0.000000  0.000000  0.000000  0.000000  \n",
       "4  0.003753  0.000583  0.000238  0.000052  0.002517  \n",
       "\n",
       "[5 rows x 251 columns]"
      ]
     },
     "execution_count": 157,
     "metadata": {},
     "output_type": "execute_result"
    }
   ],
   "source": [
    "train_input.head() "
   ]
  }
 ],
 "metadata": {
  "anaconda-cloud": {},
  "kernelspec": {
   "display_name": "Python [default]",
   "language": "python",
   "name": "python3"
  },
  "language_info": {
   "codemirror_mode": {
    "name": "ipython",
    "version": 3
   },
   "file_extension": ".py",
   "mimetype": "text/x-python",
   "name": "python",
   "nbconvert_exporter": "python",
   "pygments_lexer": "ipython3",
   "version": "3.5.2"
  }
 },
 "nbformat": 4,
 "nbformat_minor": 1
}
